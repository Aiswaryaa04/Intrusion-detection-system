{
 "cells": [
  {
   "cell_type": "markdown",
   "metadata": {},
   "source": [
    "# Import Libraries"
   ]
  },
  {
   "cell_type": "code",
   "execution_count": 1,
   "metadata": {},
   "outputs": [],
   "source": [
    "# import all libraries\n",
    "import pandas as pd\n",
    "import numpy as np\n",
    "import matplotlib.pyplot as plt\n",
    "from sklearn.decomposition import PCA\n",
    "from sklearn.preprocessing import StandardScaler\n",
    "from sklearn.tree import DecisionTreeClassifier\n",
    "from sklearn import tree\n",
    "from sklearn.feature_selection import RFE\n",
    "from sklearn.model_selection import train_test_split\n",
    "from sklearn.metrics import accuracy_score\n",
    "from sklearn.metrics import mean_squared_error\n",
    "from sklearn.metrics import mean_absolute_error\n",
    "from sklearn.metrics import r2_score\n",
    "from keras.preprocessing import sequence\n",
    "from keras.models import Sequential\n",
    "from keras.layers import Dense, Dropout, Activation, Embedding\n",
    "from keras.layers import LSTM, SimpleRNN, GRU\n"
   ]
  },
  {
   "cell_type": "markdown",
   "metadata": {},
   "source": [
    "# Load Datset-KDD"
   ]
  },
  {
   "cell_type": "code",
   "execution_count": 2,
   "metadata": {},
   "outputs": [
    {
     "name": "stdout",
     "output_type": "stream",
     "text": [
      "          id  duration protocol_type  src_bytes  dst_bytes  land  \\\n",
      "0          1         0           tcp          0          0     0   \n",
      "1          2         0           tcp          0          0     0   \n",
      "2          3         2           tcp      12983          0     0   \n",
      "3          4         0          icmp         20          0     0   \n",
      "4          5         1           tcp          0         15     0   \n",
      "...      ...       ...           ...        ...        ...   ...   \n",
      "22539  22540         0           tcp        794        333     0   \n",
      "22540  22541         0           tcp        317        938     0   \n",
      "22541  22542         0           tcp      54540       8314     0   \n",
      "22542  22543         0           udp         42         42     0   \n",
      "22543  22544         0           tcp          0          0     0   \n",
      "\n",
      "       wrong_fragment  urgent  hot  num_failed_logins  ...  \\\n",
      "0                   0       0    0                  0  ...   \n",
      "1                   0       0    0                  0  ...   \n",
      "2                   0       0    0                  0  ...   \n",
      "3                   0       0    0                  0  ...   \n",
      "4                   0       0    0                  0  ...   \n",
      "...               ...     ...  ...                ...  ...   \n",
      "22539               0       0    0                  0  ...   \n",
      "22540               0       0    0                  0  ...   \n",
      "22541               0       0    2                  0  ...   \n",
      "22542               0       0    0                  0  ...   \n",
      "22543               0       0    0                  0  ...   \n",
      "\n",
      "       dst_host_srv_count  dst_host_same_srv_rate  dst_host_diff_srv_rate  \\\n",
      "0                      10                    0.04                    0.06   \n",
      "1                       1                    0.00                    0.06   \n",
      "2                      86                    0.61                    0.04   \n",
      "3                      57                    1.00                    0.00   \n",
      "4                      86                    0.31                    0.17   \n",
      "...                   ...                     ...                     ...   \n",
      "22539                 141                    0.72                    0.06   \n",
      "22540                 255                    1.00                    0.00   \n",
      "22541                 255                    1.00                    0.00   \n",
      "22542                 252                    0.99                    0.01   \n",
      "22543                  21                    0.08                    0.03   \n",
      "\n",
      "       dst_host_same_src_port_rate  dst_host_srv_diff_host_rate  \\\n",
      "0                             0.00                         0.00   \n",
      "1                             0.00                         0.00   \n",
      "2                             0.61                         0.02   \n",
      "3                             1.00                         0.28   \n",
      "4                             0.03                         0.02   \n",
      "...                            ...                          ...   \n",
      "22539                         0.01                         0.01   \n",
      "22540                         0.01                         0.01   \n",
      "22541                         0.00                         0.00   \n",
      "22542                         0.00                         0.00   \n",
      "22543                         0.00                         0.00   \n",
      "\n",
      "       dst_host_serror_rate  dst_host_srv_serror_rate  dst_host_rerror_rate  \\\n",
      "0                      0.00                       0.0                  1.00   \n",
      "1                      0.00                       0.0                  1.00   \n",
      "2                      0.00                       0.0                  0.00   \n",
      "3                      0.00                       0.0                  0.00   \n",
      "4                      0.00                       0.0                  0.83   \n",
      "...                     ...                       ...                   ...   \n",
      "22539                  0.01                       0.0                  0.00   \n",
      "22540                  0.01                       0.0                  0.00   \n",
      "22541                  0.00                       0.0                  0.07   \n",
      "22542                  0.00                       0.0                  0.00   \n",
      "22543                  0.00                       0.0                  0.44   \n",
      "\n",
      "       dst_host_srv_rerror_rate    class  \n",
      "0                          1.00  anomaly  \n",
      "1                          1.00  anomaly  \n",
      "2                          0.00   normal  \n",
      "3                          0.00  anomaly  \n",
      "4                          0.71  anomaly  \n",
      "...                         ...      ...  \n",
      "22539                      0.00   normal  \n",
      "22540                      0.00   normal  \n",
      "22541                      0.07  anomaly  \n",
      "22542                      0.00   normal  \n",
      "22543                      1.00  anomaly  \n",
      "\n",
      "[22544 rows x 41 columns]\n",
      "          id  duration  protocol_type  src_bytes  dst_bytes  land  \\\n",
      "0          1         0              1          0          0     0   \n",
      "1          2         0              1          0          0     0   \n",
      "2          3         2              1      12983          0     0   \n",
      "3          4         0              2         20          0     0   \n",
      "4          5         1              1          0         15     0   \n",
      "...      ...       ...            ...        ...        ...   ...   \n",
      "22539  22540         0              1        794        333     0   \n",
      "22540  22541         0              1        317        938     0   \n",
      "22541  22542         0              1      54540       8314     0   \n",
      "22542  22543         0              0         42         42     0   \n",
      "22543  22544         0              1          0          0     0   \n",
      "\n",
      "       wrong_fragment  urgent  hot  num_failed_logins  ...  \\\n",
      "0                   0       0    0                  0  ...   \n",
      "1                   0       0    0                  0  ...   \n",
      "2                   0       0    0                  0  ...   \n",
      "3                   0       0    0                  0  ...   \n",
      "4                   0       0    0                  0  ...   \n",
      "...               ...     ...  ...                ...  ...   \n",
      "22539               0       0    0                  0  ...   \n",
      "22540               0       0    0                  0  ...   \n",
      "22541               0       0    2                  0  ...   \n",
      "22542               0       0    0                  0  ...   \n",
      "22543               0       0    0                  0  ...   \n",
      "\n",
      "       dst_host_srv_count  dst_host_same_srv_rate  dst_host_diff_srv_rate  \\\n",
      "0                      10                    0.04                    0.06   \n",
      "1                       1                    0.00                    0.06   \n",
      "2                      86                    0.61                    0.04   \n",
      "3                      57                    1.00                    0.00   \n",
      "4                      86                    0.31                    0.17   \n",
      "...                   ...                     ...                     ...   \n",
      "22539                 141                    0.72                    0.06   \n",
      "22540                 255                    1.00                    0.00   \n",
      "22541                 255                    1.00                    0.00   \n",
      "22542                 252                    0.99                    0.01   \n",
      "22543                  21                    0.08                    0.03   \n",
      "\n",
      "       dst_host_same_src_port_rate  dst_host_srv_diff_host_rate  \\\n",
      "0                             0.00                         0.00   \n",
      "1                             0.00                         0.00   \n",
      "2                             0.61                         0.02   \n",
      "3                             1.00                         0.28   \n",
      "4                             0.03                         0.02   \n",
      "...                            ...                          ...   \n",
      "22539                         0.01                         0.01   \n",
      "22540                         0.01                         0.01   \n",
      "22541                         0.00                         0.00   \n",
      "22542                         0.00                         0.00   \n",
      "22543                         0.00                         0.00   \n",
      "\n",
      "       dst_host_serror_rate  dst_host_srv_serror_rate  dst_host_rerror_rate  \\\n",
      "0                      0.00                       0.0                  1.00   \n",
      "1                      0.00                       0.0                  1.00   \n",
      "2                      0.00                       0.0                  0.00   \n",
      "3                      0.00                       0.0                  0.00   \n",
      "4                      0.00                       0.0                  0.83   \n",
      "...                     ...                       ...                   ...   \n",
      "22539                  0.01                       0.0                  0.00   \n",
      "22540                  0.01                       0.0                  0.00   \n",
      "22541                  0.00                       0.0                  0.07   \n",
      "22542                  0.00                       0.0                  0.00   \n",
      "22543                  0.00                       0.0                  0.44   \n",
      "\n",
      "       dst_host_srv_rerror_rate  class  \n",
      "0                          1.00      1  \n",
      "1                          1.00      1  \n",
      "2                          0.00      0  \n",
      "3                          0.00      1  \n",
      "4                          0.71      1  \n",
      "...                         ...    ...  \n",
      "22539                      0.00      0  \n",
      "22540                      0.00      0  \n",
      "22541                      0.07      1  \n",
      "22542                      0.00      0  \n",
      "22543                      1.00      1  \n",
      "\n",
      "[22544 rows x 41 columns]\n"
     ]
    }
   ],
   "source": [
    "df = pd.read_csv('kdd.csv',header=0)\n",
    "df=df.drop(['service','flag'], axis=1)\n",
    "print(df)\n",
    "df['class'] = df['class'].replace(['anomaly'], 1)\n",
    "df['class'] = df['class'].replace(['normal'], 0)\n",
    "\n",
    "df['protocol_type'] = df['protocol_type'].replace(['udp'], 0)\n",
    "df['protocol_type'] = df['protocol_type'].replace(['tcp'], 1)\n",
    "df['protocol_type'] = df['protocol_type'].replace(['icmp'], 2)\n",
    "\n",
    "print(df)\n"
   ]
  },
  {
   "cell_type": "markdown",
   "metadata": {},
   "source": [
    "# Assign X and Y"
   ]
  },
  {
   "cell_type": "code",
   "execution_count": 3,
   "metadata": {},
   "outputs": [
    {
     "name": "stdout",
     "output_type": "stream",
     "text": [
      "          id  duration  protocol_type  src_bytes  dst_bytes  land  \\\n",
      "0          1         0              1          0          0     0   \n",
      "1          2         0              1          0          0     0   \n",
      "2          3         2              1      12983          0     0   \n",
      "3          4         0              2         20          0     0   \n",
      "4          5         1              1          0         15     0   \n",
      "...      ...       ...            ...        ...        ...   ...   \n",
      "22539  22540         0              1        794        333     0   \n",
      "22540  22541         0              1        317        938     0   \n",
      "22541  22542         0              1      54540       8314     0   \n",
      "22542  22543         0              0         42         42     0   \n",
      "22543  22544         0              1          0          0     0   \n",
      "\n",
      "       wrong_fragment  urgent  hot  num_failed_logins  ...  dst_host_count  \\\n",
      "0                   0       0    0                  0  ...             255   \n",
      "1                   0       0    0                  0  ...             255   \n",
      "2                   0       0    0                  0  ...             134   \n",
      "3                   0       0    0                  0  ...               3   \n",
      "4                   0       0    0                  0  ...              29   \n",
      "...               ...     ...  ...                ...  ...             ...   \n",
      "22539               0       0    0                  0  ...             100   \n",
      "22540               0       0    0                  0  ...             197   \n",
      "22541               0       0    2                  0  ...             255   \n",
      "22542               0       0    0                  0  ...             255   \n",
      "22543               0       0    0                  0  ...             255   \n",
      "\n",
      "       dst_host_srv_count  dst_host_same_srv_rate  dst_host_diff_srv_rate  \\\n",
      "0                      10                    0.04                    0.06   \n",
      "1                       1                    0.00                    0.06   \n",
      "2                      86                    0.61                    0.04   \n",
      "3                      57                    1.00                    0.00   \n",
      "4                      86                    0.31                    0.17   \n",
      "...                   ...                     ...                     ...   \n",
      "22539                 141                    0.72                    0.06   \n",
      "22540                 255                    1.00                    0.00   \n",
      "22541                 255                    1.00                    0.00   \n",
      "22542                 252                    0.99                    0.01   \n",
      "22543                  21                    0.08                    0.03   \n",
      "\n",
      "       dst_host_same_src_port_rate  dst_host_srv_diff_host_rate  \\\n",
      "0                             0.00                         0.00   \n",
      "1                             0.00                         0.00   \n",
      "2                             0.61                         0.02   \n",
      "3                             1.00                         0.28   \n",
      "4                             0.03                         0.02   \n",
      "...                            ...                          ...   \n",
      "22539                         0.01                         0.01   \n",
      "22540                         0.01                         0.01   \n",
      "22541                         0.00                         0.00   \n",
      "22542                         0.00                         0.00   \n",
      "22543                         0.00                         0.00   \n",
      "\n",
      "       dst_host_serror_rate  dst_host_srv_serror_rate  dst_host_rerror_rate  \\\n",
      "0                      0.00                       0.0                  1.00   \n",
      "1                      0.00                       0.0                  1.00   \n",
      "2                      0.00                       0.0                  0.00   \n",
      "3                      0.00                       0.0                  0.00   \n",
      "4                      0.00                       0.0                  0.83   \n",
      "...                     ...                       ...                   ...   \n",
      "22539                  0.01                       0.0                  0.00   \n",
      "22540                  0.01                       0.0                  0.00   \n",
      "22541                  0.00                       0.0                  0.07   \n",
      "22542                  0.00                       0.0                  0.00   \n",
      "22543                  0.00                       0.0                  0.44   \n",
      "\n",
      "       dst_host_srv_rerror_rate  \n",
      "0                          1.00  \n",
      "1                          1.00  \n",
      "2                          0.00  \n",
      "3                          0.00  \n",
      "4                          0.71  \n",
      "...                         ...  \n",
      "22539                      0.00  \n",
      "22540                      0.00  \n",
      "22541                      0.07  \n",
      "22542                      0.00  \n",
      "22543                      1.00  \n",
      "\n",
      "[22544 rows x 40 columns]\n"
     ]
    }
   ],
   "source": [
    "X=df.drop(columns=['class'])\n",
    "y=df['class']\n",
    "print(X)\n"
   ]
  },
  {
   "cell_type": "code",
   "execution_count": 4,
   "metadata": {},
   "outputs": [],
   "source": [
    "names = df.head()\n"
   ]
  },
  {
   "cell_type": "markdown",
   "metadata": {},
   "source": [
    "# Feature selection Technique"
   ]
  },
  {
   "cell_type": "code",
   "execution_count": 5,
   "metadata": {},
   "outputs": [
    {
     "name": "stdout",
     "output_type": "stream",
     "text": [
      "[ True  True  True  True  True False  True False False False False False\n",
      " False False False False False False False False False  True  True False\n",
      " False False False False False  True  True  True  True  True  True  True\n",
      " False False False  True]\n",
      "Rank\n",
      "[ 1  1  1  1  1 18  1 14 13 15  5 25 17 20  6  4 21 10 22  8 24  1  1 19\n",
      "  9 16 12  2 11  1  1  1  1  1  1  1  7 23  3  1]\n",
      "Features sorted by their rank:\n",
      "[(1, 'count'), (1, 'dst_bytes'), (1, 'dst_host_count'), (1, 'dst_host_diff_srv_rate'), (1, 'dst_host_same_src_port_rate'), (1, 'dst_host_same_srv_rate'), (1, 'dst_host_srv_count'), (1, 'dst_host_srv_diff_host_rate'), (1, 'dst_host_srv_rerror_rate'), (1, 'duration'), (1, 'id'), (1, 'protocol_type'), (1, 'src_bytes'), (1, 'srv_count'), (1, 'srv_diff_host_rate'), (1, 'wrong_fragment'), (2, 'same_srv_rate'), (3, 'dst_host_rerror_rate'), (4, 'num_file_creations'), (5, 'logged_in'), (6, 'num_root'), (7, 'dst_host_serror_rate'), (8, 'is_host_login'), (9, 'srv_serror_rate'), (10, 'num_access_files'), (11, 'diff_srv_rate'), (12, 'srv_rerror_rate'), (13, 'hot'), (14, 'urgent'), (15, 'num_failed_logins'), (16, 'rerror_rate'), (17, 'root_shell'), (18, 'land'), (19, 'serror_rate'), (20, 'su_attempted'), (21, 'num_shells'), (22, 'num_outbound_cmds'), (23, 'dst_host_srv_serror_rate'), (24, 'is_guest_login'), (25, 'num_compromised')]\n",
      "[(1, 'count'), (1, 'dst_bytes'), (1, 'dst_host_count'), (1, 'dst_host_diff_srv_rate'), (1, 'dst_host_same_src_port_rate'), (1, 'dst_host_same_srv_rate'), (1, 'dst_host_srv_count'), (1, 'dst_host_srv_diff_host_rate'), (1, 'dst_host_srv_rerror_rate'), (1, 'duration'), (1, 'id'), (1, 'protocol_type'), (1, 'src_bytes'), (1, 'srv_count'), (1, 'srv_diff_host_rate'), (1, 'wrong_fragment'), (2, 'same_srv_rate'), (3, 'dst_host_rerror_rate'), (4, 'num_file_creations'), (5, 'logged_in'), (6, 'num_root'), (7, 'dst_host_serror_rate'), (8, 'is_host_login'), (9, 'srv_serror_rate'), (10, 'num_access_files'), (11, 'diff_srv_rate'), (12, 'srv_rerror_rate'), (13, 'hot'), (14, 'urgent'), (15, 'num_failed_logins'), (16, 'rerror_rate'), (17, 'root_shell'), (18, 'land'), (19, 'serror_rate'), (20, 'su_attempted'), (21, 'num_shells'), (22, 'num_outbound_cmds'), (23, 'dst_host_srv_serror_rate'), (24, 'is_guest_login'), (25, 'num_compromised')]\n",
      "['count', 'dst_bytes', 'dst_host_count', 'dst_host_diff_srv_rate', 'dst_host_same_src_port_rate', 'dst_host_same_srv_rate', 'dst_host_srv_count', 'dst_host_srv_diff_host_rate', 'dst_host_srv_rerror_rate', 'duration', 'id', 'protocol_type', 'src_bytes', 'srv_count', 'srv_diff_host_rate', 'wrong_fragment']\n",
      "       count  dst_bytes  dst_host_count  dst_host_diff_srv_rate  \\\n",
      "0        229          0             255                    0.06   \n",
      "1        136          0             255                    0.06   \n",
      "2          1          0             134                    0.04   \n",
      "3          1          0               3                    0.00   \n",
      "4          1         15              29                    0.17   \n",
      "...      ...        ...             ...                     ...   \n",
      "22539      1        333             100                    0.06   \n",
      "22540      2        938             197                    0.00   \n",
      "22541      5       8314             255                    0.00   \n",
      "22542      4         42             255                    0.01   \n",
      "22543      4          0             255                    0.03   \n",
      "\n",
      "       dst_host_same_src_port_rate  dst_host_same_srv_rate  \\\n",
      "0                             0.00                    0.04   \n",
      "1                             0.00                    0.00   \n",
      "2                             0.61                    0.61   \n",
      "3                             1.00                    1.00   \n",
      "4                             0.03                    0.31   \n",
      "...                            ...                     ...   \n",
      "22539                         0.01                    0.72   \n",
      "22540                         0.01                    1.00   \n",
      "22541                         0.00                    1.00   \n",
      "22542                         0.00                    0.99   \n",
      "22543                         0.00                    0.08   \n",
      "\n",
      "       dst_host_srv_count  dst_host_srv_diff_host_rate  \\\n",
      "0                      10                         0.00   \n",
      "1                       1                         0.00   \n",
      "2                      86                         0.02   \n",
      "3                      57                         0.28   \n",
      "4                      86                         0.02   \n",
      "...                   ...                          ...   \n",
      "22539                 141                         0.01   \n",
      "22540                 255                         0.01   \n",
      "22541                 255                         0.00   \n",
      "22542                 252                         0.00   \n",
      "22543                  21                         0.00   \n",
      "\n",
      "       dst_host_srv_rerror_rate  duration     id  protocol_type  src_bytes  \\\n",
      "0                          1.00         0      1              1          0   \n",
      "1                          1.00         0      2              1          0   \n",
      "2                          0.00         2      3              1      12983   \n",
      "3                          0.00         0      4              2         20   \n",
      "4                          0.71         1      5              1          0   \n",
      "...                         ...       ...    ...            ...        ...   \n",
      "22539                      0.00         0  22540              1        794   \n",
      "22540                      0.00         0  22541              1        317   \n",
      "22541                      0.07         0  22542              1      54540   \n",
      "22542                      0.00         0  22543              0         42   \n",
      "22543                      1.00         0  22544              1          0   \n",
      "\n",
      "       srv_count  srv_diff_host_rate  wrong_fragment  \n",
      "0             10                0.00               0  \n",
      "1              1                0.00               0  \n",
      "2              1                0.00               0  \n",
      "3             65                1.00               0  \n",
      "4              8                0.75               0  \n",
      "...          ...                 ...             ...  \n",
      "22539          1                0.00               0  \n",
      "22540         11                0.18               0  \n",
      "22541         10                0.20               0  \n",
      "22542          6                0.33               0  \n",
      "22543         10                1.00               0  \n",
      "\n",
      "[22544 rows x 16 columns]\n"
     ]
    }
   ],
   "source": [
    "dtree = tree.DecisionTreeClassifier()\n",
    "rfe = RFE(estimator=dtree, n_features_to_select=16)\n",
    "rfe.fit(X, y)\n",
    "# summarize the selection of the attributes\n",
    "print(rfe.support_)\n",
    "print(\"Rank\")\n",
    "print(rfe.ranking_)\n",
    "print (\"Features sorted by their rank:\")\n",
    "print (sorted(zip(map(lambda x: round(x, 4), rfe.ranking_), names)))\n",
    "mm=sorted(zip(map(lambda x: round(x, 4), rfe.ranking_), names))\n",
    "print(mm)\n",
    "cols=[mm[0][1],mm[1][1],mm[2][1],mm[3][1],mm[4][1],mm[5][1],mm[6][1],mm[7][1],mm[8][1],mm[9][1],mm[10][1],mm[11][1],mm[12][1],mm[13][1],mm[14][1],mm[15][1]]\n",
    "print(cols)\n",
    "print(df[cols])\n",
    "X=df[cols]\n"
   ]
  },
  {
   "cell_type": "markdown",
   "metadata": {},
   "source": [
    "# Apply Standard Scalar"
   ]
  },
  {
   "cell_type": "code",
   "execution_count": 6,
   "metadata": {},
   "outputs": [],
   "source": [
    "X_train, X_test, y_train, y_test = train_test_split(X, y, test_size=0.05, random_state=42)\n",
    "\n",
    "\n",
    "\n",
    "sc = StandardScaler()\n",
    "X_train = sc.fit_transform(X_train)\n",
    "X_test = sc.fit_transform(X_test)\n"
   ]
  },
  {
   "cell_type": "markdown",
   "metadata": {},
   "source": [
    "# Feature reseduction through PCA"
   ]
  },
  {
   "cell_type": "code",
   "execution_count": 7,
   "metadata": {},
   "outputs": [
    {
     "name": "stdout",
     "output_type": "stream",
     "text": [
      "[[ 1.68133921 -0.33215224 -0.28503476]\n",
      " [ 1.71336173  0.43356613 -0.13586064]\n",
      " [-2.18204092 -0.94835059  0.80750632]\n",
      " ...\n",
      " [ 1.30095932 -1.92799066  0.22071298]\n",
      " [ 0.56809755 -0.60790685 -0.55180251]\n",
      " [ 4.91486987  0.86314594  0.81788942]]\n"
     ]
    }
   ],
   "source": [
    "# Set the n_components=3\n",
    "principal=PCA(n_components=3)\n",
    "X_train=principal.fit_transform(X_train)\n",
    "X_test=principal.fit_transform(X_test)\n",
    " \n",
    "# Check the dimensions of data after PCA\n",
    "print(X_train)\n"
   ]
  },
  {
   "cell_type": "markdown",
   "metadata": {},
   "source": [
    "# Build Deep Learning Mode"
   ]
  },
  {
   "cell_type": "code",
   "execution_count": 8,
   "metadata": {},
   "outputs": [
    {
     "name": "stdout",
     "output_type": "stream",
     "text": [
      "Epoch 1/5\n",
      "2142/2142 [==============================] - 8s 2ms/step - loss: 0.3633 - accuracy: 0.8438 - val_loss: 0.4884 - val_accuracy: 0.8103\n",
      "Epoch 2/5\n",
      "2142/2142 [==============================] - 6s 3ms/step - loss: 0.2855 - accuracy: 0.8720 - val_loss: 0.6311 - val_accuracy: 0.8147\n",
      "Epoch 3/5\n",
      "2142/2142 [==============================] - 4s 2ms/step - loss: 0.2716 - accuracy: 0.8805 - val_loss: 0.6790 - val_accuracy: 0.8076\n",
      "Epoch 4/5\n",
      "2142/2142 [==============================] - 4s 2ms/step - loss: 0.2643 - accuracy: 0.8856 - val_loss: 0.7435 - val_accuracy: 0.7988\n",
      "Epoch 5/5\n",
      "2142/2142 [==============================] - 4s 2ms/step - loss: 0.2595 - accuracy: 0.8864 - val_loss: 0.7849 - val_accuracy: 0.7589\n"
     ]
    },
    {
     "data": {
      "image/png": "[encoded data removed]",
      "text/plain": [
       "<Figure size 432x288 with 1 Axes>"
      ]
     },
     "metadata": {
      "needs_background": "light"
     },
     "output_type": "display_data"
    },
    {
     "data": {
      "image/png": "[encoded data removed]",
      "text/plain": [
       "<Figure size 432x288 with 1 Axes>"
      ]
     },
     "metadata": {
      "needs_background": "light"
     },
     "output_type": "display_data"
    }
   ],
   "source": [
    "model= Sequential()\n",
    "\n",
    "model.add(Dense(16, kernel_initializer='uniform', activation='relu', input_dim=3))\n",
    "model.add(Dense(14, kernel_initializer='uniform', activation='relu'))\n",
    "model.add(Dense(1, activation=\"sigmoid\"))\n",
    "model.compile(optimizer='rmsprop', loss='binary_crossentropy', metrics=['accuracy'])\n",
    "hist=model.fit(X_train,y_train, epochs=5,batch_size=10,validation_data=(X_test, y_test))\n",
    "\n",
    "#train and validation loss\n",
    "plt.plot(hist.history['loss'])\n",
    "plt.plot(hist.history['val_loss'])\n",
    "plt.title('Model Loss')\n",
    "plt.ylabel('Loss')\n",
    "plt.xlabel('Epoch')\n",
    "plt.legend(['train','Validation'],loc='upper left')\n",
    "plt.savefig('results/DNN Loss.png') \n",
    "plt.pause(5)\n",
    "plt.show(block=False)\n",
    "plt.close()\n",
    "\n",
    "#train and validation accuracy\n",
    "plt.plot(hist.history['accuracy'])\n",
    "plt.plot(hist.history['val_accuracy'])\n",
    "plt.title('Model Accuracy')\n",
    "plt.ylabel('Accuracy')\n",
    "plt.xlabel('Epoch')\n",
    "plt.legend(['train','Validation'],loc='upper left')\n",
    "plt.savefig('results/DNN Accuracy.png') \n",
    "plt.pause(5)\n",
    "plt.show(block=False)\n",
    "plt.close()\n",
    "\n",
    "\n",
    "y_pred=model.predict(X_test)\n",
    "y_pred = [np.argmax(x) for x in y_pred]\n"
   ]
  },
  {
   "cell_type": "markdown",
   "metadata": {},
   "source": [
    "# Metrics computation"
   ]
  },
  {
   "cell_type": "code",
   "execution_count": 12,
   "metadata": {},
   "outputs": [
    {
     "name": "stdout",
     "output_type": "stream",
     "text": [
      "MSE VALUE FOR DNN IS 0.570035 \n",
      "MAE VALUE FOR DNN IS 0.570035 \n",
      "R-SQUARED VALUE FOR DNN IS -1.325773 \n",
      "RMSE VALUE FOR DNN IS 0.755007 \n"
     ]
    }
   ],
   "source": [
    "mse=mean_squared_error(y_test, y_pred)\n",
    "mae=mean_absolute_error(y_test, y_pred)\n",
    "r2=r2_score(y_test, y_pred)\n",
    "print(\"MSE VALUE FOR DNN IS %f \"  % mse)\n",
    "print(\"MAE VALUE FOR DNN IS %f \"  % mae)\n",
    "print(\"R-SQUARED VALUE FOR DNN IS %f \"  % r2)\n",
    "rms = np.sqrt(mean_squared_error(y_test, y_pred))\n",
    "print(\"RMSE VALUE FOR DNN IS %f \"  % rms)\n"
   ]
  },
  {
   "cell_type": "code",
   "execution_count": null,
   "metadata": {},
   "outputs": [],
   "source": []
  }
 ],
 "metadata": {
  "kernelspec": {
   "display_name": "Python 3",
   "language": "python",
   "name": "python3"
  },
  "language_info": {
   "codemirror_mode": {
    "name": "ipython",
    "version": 3
   },
   "file_extension": ".py",
   "mimetype": "text/x-python",
   "name": "python",
   "nbconvert_exporter": "python",
   "pygments_lexer": "ipython3",
   "version": "3.8.3"
  }
 },
 "nbformat": 4,
 "nbformat_minor": 4
}
