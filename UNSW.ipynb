{
 "cells": [
  {
   "cell_type": "markdown",
   "metadata": {},
   "source": [
    "# Import Libraries"
   ]
  },
  {
   "cell_type": "code",
   "execution_count": 1,
   "metadata": {},
   "outputs": [],
   "source": [
    "# import all libraries\n",
    "import pandas as pd\n",
    "import numpy as np\n",
    "import matplotlib.pyplot as plt\n",
    "from sklearn.decomposition import PCA\n",
    "from sklearn.preprocessing import StandardScaler\n",
    "from sklearn.tree import DecisionTreeClassifier\n",
    "from sklearn import tree\n",
    "from sklearn.feature_selection import RFE\n",
    "from sklearn.model_selection import train_test_split\n",
    "from sklearn.metrics import accuracy_score\n",
    "from sklearn.metrics import mean_squared_error\n",
    "from sklearn.metrics import mean_absolute_error\n",
    "from sklearn.metrics import r2_score\n",
    "from keras.preprocessing import sequence\n",
    "from keras.models import Sequential\n",
    "from keras.layers import Dense, Dropout, Activation, Embedding\n",
    "from keras.layers import LSTM, SimpleRNN, GRU\n"
   ]
  },
  {
   "cell_type": "markdown",
   "metadata": {},
   "source": [
    "# Read Dataset -UNSW"
   ]
  },
  {
   "cell_type": "code",
   "execution_count": 2,
   "metadata": {},
   "outputs": [
    {
     "name": "stdout",
     "output_type": "stream",
     "text": [
      "          id       dur  spkts  dpkts  sbytes  dbytes           rate  sttl  \\\n",
      "0          1  0.000011      2      0     496       0   90909.090200   254   \n",
      "1          2  0.000008      2      0    1762       0  125000.000300   254   \n",
      "2          3  0.000005      2      0    1068       0  200000.005100   254   \n",
      "3          4  0.000006      2      0     900       0  166666.660800   254   \n",
      "4          5  0.000010      2      0    2126       0  100000.002500   254   \n",
      "...      ...       ...    ...    ...     ...     ...            ...   ...   \n",
      "82327  82328  0.000005      2      0     104       0  200000.005100   254   \n",
      "82328  82329  1.106101     20      8   18062     354      24.410067   254   \n",
      "82329  82330  0.000000      1      0      46       0       0.000000     0   \n",
      "82330  82331  0.000000      1      0      46       0       0.000000     0   \n",
      "82331  82332  0.000009      2      0     104       0  111111.107200   254   \n",
      "\n",
      "       dttl         sload  ...  ct_src_dport_ltm  ct_dst_sport_ltm  \\\n",
      "0         0  1.803636e+08  ...                 1                 1   \n",
      "1         0  8.810000e+08  ...                 1                 1   \n",
      "2         0  8.544000e+08  ...                 1                 1   \n",
      "3         0  6.000000e+08  ...                 2                 1   \n",
      "4         0  8.504000e+08  ...                 2                 1   \n",
      "...     ...           ...  ...               ...               ...   \n",
      "82327     0  8.320000e+07  ...                 1                 1   \n",
      "82328   252  1.241044e+05  ...                 1                 1   \n",
      "82329     0  0.000000e+00  ...                 1                 1   \n",
      "82330     0  0.000000e+00  ...                 1                 1   \n",
      "82331     0  4.622222e+07  ...                 1                 1   \n",
      "\n",
      "       ct_dst_src_ltm  is_ftp_login  ct_ftp_cmd  ct_flw_http_mthd  ct_src_ltm  \\\n",
      "0                   2             0           0                 0           1   \n",
      "1                   2             0           0                 0           1   \n",
      "2                   3             0           0                 0           1   \n",
      "3                   3             0           0                 0           2   \n",
      "4                   3             0           0                 0           2   \n",
      "...               ...           ...         ...               ...         ...   \n",
      "82327               2             0           0                 0           2   \n",
      "82328               1             0           0                 0           3   \n",
      "82329               1             0           0                 0           1   \n",
      "82330               1             0           0                 0           1   \n",
      "82331               1             0           0                 0           1   \n",
      "\n",
      "       ct_srv_dst  is_sm_ips_ports  label  \n",
      "0               2                0      0  \n",
      "1               2                0      0  \n",
      "2               3                0      0  \n",
      "3               3                0      0  \n",
      "4               3                0      0  \n",
      "...           ...              ...    ...  \n",
      "82327           1                0      0  \n",
      "82328           2                0      0  \n",
      "82329           1                1      0  \n",
      "82330           1                1      0  \n",
      "82331           1                0      0  \n",
      "\n",
      "[82332 rows x 41 columns]\n",
      "          id       dur  spkts  dpkts  sbytes  dbytes           rate  sttl  \\\n",
      "0          1  0.000011      2      0     496       0   90909.090200   254   \n",
      "1          2  0.000008      2      0    1762       0  125000.000300   254   \n",
      "2          3  0.000005      2      0    1068       0  200000.005100   254   \n",
      "3          4  0.000006      2      0     900       0  166666.660800   254   \n",
      "4          5  0.000010      2      0    2126       0  100000.002500   254   \n",
      "...      ...       ...    ...    ...     ...     ...            ...   ...   \n",
      "82327  82328  0.000005      2      0     104       0  200000.005100   254   \n",
      "82328  82329  1.106101     20      8   18062     354      24.410067   254   \n",
      "82329  82330  0.000000      1      0      46       0       0.000000     0   \n",
      "82330  82331  0.000000      1      0      46       0       0.000000     0   \n",
      "82331  82332  0.000009      2      0     104       0  111111.107200   254   \n",
      "\n",
      "       dttl         sload  ...  ct_dst_ltm  ct_src_dport_ltm  \\\n",
      "0         0  1.803636e+08  ...           1                 1   \n",
      "1         0  8.810000e+08  ...           1                 1   \n",
      "2         0  8.544000e+08  ...           1                 1   \n",
      "3         0  6.000000e+08  ...           2                 2   \n",
      "4         0  8.504000e+08  ...           2                 2   \n",
      "...     ...           ...  ...         ...               ...   \n",
      "82327     0  8.320000e+07  ...           2                 1   \n",
      "82328   252  1.241044e+05  ...           2                 1   \n",
      "82329     0  0.000000e+00  ...           1                 1   \n",
      "82330     0  0.000000e+00  ...           1                 1   \n",
      "82331     0  4.622222e+07  ...           1                 1   \n",
      "\n",
      "       ct_dst_sport_ltm  ct_dst_src_ltm  is_ftp_login  ct_ftp_cmd  \\\n",
      "0                     1               2             0           0   \n",
      "1                     1               2             0           0   \n",
      "2                     1               3             0           0   \n",
      "3                     1               3             0           0   \n",
      "4                     1               3             0           0   \n",
      "...                 ...             ...           ...         ...   \n",
      "82327                 1               2             0           0   \n",
      "82328                 1               1             0           0   \n",
      "82329                 1               1             0           0   \n",
      "82330                 1               1             0           0   \n",
      "82331                 1               1             0           0   \n",
      "\n",
      "       ct_flw_http_mthd  ct_src_ltm  ct_srv_dst  is_sm_ips_ports  \n",
      "0                     0           1           2                0  \n",
      "1                     0           1           2                0  \n",
      "2                     0           1           3                0  \n",
      "3                     0           2           3                0  \n",
      "4                     0           2           3                0  \n",
      "...                 ...         ...         ...              ...  \n",
      "82327                 0           2           1                0  \n",
      "82328                 0           3           2                0  \n",
      "82329                 0           1           1                1  \n",
      "82330                 0           1           1                1  \n",
      "82331                 0           1           1                0  \n",
      "\n",
      "[82332 rows x 40 columns]\n"
     ]
    }
   ],
   "source": [
    "df = pd.read_csv('UNSW_NB15_training-set.csv')\n",
    "df=df.drop(['proto','service','state','attack_cat'], axis=1)\n",
    "print(df)\n",
    "\n",
    "X=df.drop(columns=['label'])\n",
    "y=df['label']\n",
    "print(X)\n"
   ]
  },
  {
   "cell_type": "markdown",
   "metadata": {},
   "source": [
    "# Feature selection technique"
   ]
  },
  {
   "cell_type": "code",
   "execution_count": 3,
   "metadata": {},
   "outputs": [
    {
     "name": "stdout",
     "output_type": "stream",
     "text": [
      "[ True False False False  True  True False  True False  True False  True\n",
      " False  True False False  True False False False False  True  True False\n",
      "  True  True False False False  True  True False  True  True False False\n",
      " False False False False]\n",
      "Rank\n",
      "[ 1 19 17 20  1  1  3  1 11  1 12  1 24  1 10  8  1 13 21  6 18  1  1  4\n",
      "  1  1 14 16 22  1  1  5  1  1  9 15  7  2 23 25]\n",
      "Features sorted by their rank:\n",
      "[(1, 'ct_dst_ltm'), (1, 'ct_dst_sport_ltm'), (1, 'ct_dst_src_ltm'), (1, 'ct_state_ttl'), (1, 'dbytes'), (1, 'djit'), (1, 'dmean'), (1, 'id'), (1, 'sbytes'), (1, 'sinpkt'), (1, 'sload'), (1, 'sloss'), (1, 'smean'), (1, 'sttl'), (1, 'synack'), (1, 'tcprtt'), (2, 'ct_src_ltm'), (3, 'rate'), (4, 'ackdat'), (5, 'ct_src_dport_ltm'), (6, 'dtcpb'), (7, 'ct_flw_http_mthd'), (8, 'sjit'), (9, 'is_ftp_login'), (10, 'dinpkt'), (11, 'dttl'), (12, 'dload'), (13, 'swin'), (14, 'trans_depth'), (15, 'ct_ftp_cmd'), (16, 'response_body_len'), (17, 'spkts'), (18, 'dwin'), (19, 'dur'), (20, 'dpkts'), (21, 'stcpb'), (22, 'ct_srv_src'), (23, 'ct_srv_dst'), (24, 'dloss'), (25, 'is_sm_ips_ports')]\n",
      "[(1, 'ct_dst_ltm'), (1, 'ct_dst_sport_ltm'), (1, 'ct_dst_src_ltm'), (1, 'ct_state_ttl'), (1, 'dbytes'), (1, 'djit'), (1, 'dmean'), (1, 'id'), (1, 'sbytes'), (1, 'sinpkt'), (1, 'sload'), (1, 'sloss'), (1, 'smean'), (1, 'sttl'), (1, 'synack'), (1, 'tcprtt'), (2, 'ct_src_ltm'), (3, 'rate'), (4, 'ackdat'), (5, 'ct_src_dport_ltm'), (6, 'dtcpb'), (7, 'ct_flw_http_mthd'), (8, 'sjit'), (9, 'is_ftp_login'), (10, 'dinpkt'), (11, 'dttl'), (12, 'dload'), (13, 'swin'), (14, 'trans_depth'), (15, 'ct_ftp_cmd'), (16, 'response_body_len'), (17, 'spkts'), (18, 'dwin'), (19, 'dur'), (20, 'dpkts'), (21, 'stcpb'), (22, 'ct_srv_src'), (23, 'ct_srv_dst'), (24, 'dloss'), (25, 'is_sm_ips_ports')]\n",
      "['ct_dst_ltm', 'ct_dst_sport_ltm', 'ct_dst_src_ltm', 'ct_state_ttl', 'dbytes', 'djit', 'dmean', 'id', 'sbytes', 'sinpkt', 'sload', 'sloss', 'smean', 'sttl', 'synack', 'tcprtt']\n",
      "       ct_dst_ltm  ct_dst_sport_ltm  ct_dst_src_ltm  ct_state_ttl  dbytes  \\\n",
      "0               1                 1               2             2       0   \n",
      "1               1                 1               2             2       0   \n",
      "2               1                 1               3             2       0   \n",
      "3               2                 1               3             2       0   \n",
      "4               2                 1               3             2       0   \n",
      "...           ...               ...             ...           ...     ...   \n",
      "82327           2                 1               2             2       0   \n",
      "82328           2                 1               1             1     354   \n",
      "82329           1                 1               1             2       0   \n",
      "82330           1                 1               1             2       0   \n",
      "82331           1                 1               1             2       0   \n",
      "\n",
      "             djit  dmean     id  sbytes        sinpkt         sload  sloss  \\\n",
      "0        0.000000      0      1     496      0.011000  1.803636e+08      0   \n",
      "1        0.000000      0      2    1762      0.008000  8.810000e+08      0   \n",
      "2        0.000000      0      3    1068      0.005000  8.544000e+08      0   \n",
      "3        0.000000      0      4     900      0.006000  6.000000e+08      0   \n",
      "4        0.000000      0      5    2126      0.010000  8.504000e+08      0   \n",
      "...           ...    ...    ...     ...           ...           ...    ...   \n",
      "82327    0.000000      0  82328     104      0.005000  8.320000e+07      0   \n",
      "82328  190.980813     44  82329   18062     55.880051  1.241044e+05      7   \n",
      "82329    0.000000      0  82330      46  60000.720000  0.000000e+00      0   \n",
      "82330    0.000000      0  82331      46  60000.732000  0.000000e+00      0   \n",
      "82331    0.000000      0  82332     104      0.009000  4.622222e+07      0   \n",
      "\n",
      "       smean  sttl    synack    tcprtt  \n",
      "0        248   254  0.000000  0.000000  \n",
      "1        881   254  0.000000  0.000000  \n",
      "2        534   254  0.000000  0.000000  \n",
      "3        450   254  0.000000  0.000000  \n",
      "4       1063   254  0.000000  0.000000  \n",
      "...      ...   ...       ...       ...  \n",
      "82327     52   254  0.000000  0.000000  \n",
      "82328    903   254  0.100191  0.173208  \n",
      "82329     46     0  0.000000  0.000000  \n",
      "82330     46     0  0.000000  0.000000  \n",
      "82331     52   254  0.000000  0.000000  \n",
      "\n",
      "[82332 rows x 16 columns]\n"
     ]
    }
   ],
   "source": [
    "names = df.head()\n",
    "dtree = tree.DecisionTreeClassifier()\n",
    "rfe = RFE(estimator=dtree, n_features_to_select=16)\n",
    "rfe.fit(X, y)\n",
    "# summarize the selection of the attributes\n",
    "print(rfe.support_)\n",
    "print(\"Rank\")\n",
    "print(rfe.ranking_)\n",
    "print (\"Features sorted by their rank:\")\n",
    "print (sorted(zip(map(lambda x: round(x, 4), rfe.ranking_), names)))\n",
    "mm=sorted(zip(map(lambda x: round(x, 4), rfe.ranking_), names))\n",
    "print(mm)\n",
    "cols=[mm[0][1],mm[1][1],mm[2][1],mm[3][1],mm[4][1],mm[5][1],mm[6][1],mm[7][1],mm[8][1],mm[9][1],mm[10][1],mm[11][1],mm[12][1],mm[13][1],mm[14][1],mm[15][1]]\n",
    "print(cols)\n",
    "print(df[cols])\n",
    "X=df[cols]\n",
    "\n"
   ]
  },
  {
   "cell_type": "code",
   "execution_count": 4,
   "metadata": {},
   "outputs": [],
   "source": [
    "X_train, X_test, y_train, y_test = train_test_split(X, y, test_size=0.2, random_state=42)\n"
   ]
  },
  {
   "cell_type": "markdown",
   "metadata": {},
   "source": [
    "# Apply Standard scalar"
   ]
  },
  {
   "cell_type": "code",
   "execution_count": 5,
   "metadata": {},
   "outputs": [],
   "source": [
    "sc = StandardScaler()\n",
    "X_train = sc.fit_transform(X_train)\n",
    "X_test = sc.fit_transform(X_test)\n"
   ]
  },
  {
   "cell_type": "markdown",
   "metadata": {},
   "source": [
    "# Apply feature reduction"
   ]
  },
  {
   "cell_type": "code",
   "execution_count": 6,
   "metadata": {},
   "outputs": [
    {
     "name": "stdout",
     "output_type": "stream",
     "text": [
      "[[ 1.4661284  -0.73695329  1.12775933]\n",
      " [ 1.45626648  2.14258278  2.35496506]\n",
      " [ 1.82601967  0.70587366 -0.52590453]\n",
      " ...\n",
      " [ 1.15008495  1.53313814 -0.69508203]\n",
      " [ 0.67321702  0.4827318  -0.31066812]\n",
      " [-5.24432431 -0.42053437  0.30770969]]\n"
     ]
    }
   ],
   "source": [
    "# Set the n_components=3\n",
    "principal=PCA(n_components=3)\n",
    "X_train=principal.fit_transform(X_train)\n",
    "X_test=principal.fit_transform(X_test)\n",
    " \n",
    "# Check the dimensions of data after PCA\n",
    "print(X_train)\n"
   ]
  },
  {
   "cell_type": "markdown",
   "metadata": {},
   "source": [
    "# Build DNN model"
   ]
  },
  {
   "cell_type": "code",
   "execution_count": 7,
   "metadata": {},
   "outputs": [
    {
     "name": "stdout",
     "output_type": "stream",
     "text": [
      "Epoch 1/5\n",
      "6587/6587 [==============================] - 16s 2ms/step - loss: 0.3662 - accuracy: 0.8427 - val_loss: 0.3484 - val_accuracy: 0.8612\n",
      "Epoch 2/5\n",
      "6587/6587 [==============================] - 17s 3ms/step - loss: 0.3222 - accuracy: 0.8798 - val_loss: 0.3117 - val_accuracy: 0.8887\n",
      "Epoch 3/5\n",
      "6587/6587 [==============================] - 15s 2ms/step - loss: 0.2918 - accuracy: 0.8967 - val_loss: 0.2997 - val_accuracy: 0.8851\n",
      "Epoch 4/5\n",
      "6587/6587 [==============================] - 19s 3ms/step - loss: 0.2699 - accuracy: 0.9034 - val_loss: 0.2704 - val_accuracy: 0.9030\n",
      "Epoch 5/5\n",
      "6587/6587 [==============================] - 16s 2ms/step - loss: 0.2549 - accuracy: 0.9090 - val_loss: 0.2607 - val_accuracy: 0.9087\n"
     ]
    },
    {
     "data": {
      "image/png": "[encoded data removed]",
      "text/plain": [
       "<Figure size 432x288 with 1 Axes>"
      ]
     },
     "metadata": {
      "needs_background": "light"
     },
     "output_type": "display_data"
    },
    {
     "data": {
      "image/png": "[encoded data removed]",
      "text/plain": [
       "<Figure size 432x288 with 1 Axes>"
      ]
     },
     "metadata": {
      "needs_background": "light"
     },
     "output_type": "display_data"
    }
   ],
   "source": [
    "model= Sequential()\n",
    "\n",
    "model.add(Dense(16, kernel_initializer='uniform', activation='relu', input_dim=3))\n",
    "model.add(Dense(14, kernel_initializer='uniform', activation='relu'))\n",
    "model.add(Dense(1, activation=\"sigmoid\"))\n",
    "model.compile(optimizer='rmsprop', loss='binary_crossentropy', metrics=['accuracy'])\n",
    "hist=model.fit(X_train,y_train, epochs=5,batch_size=10,validation_data=(X_test, y_test))\n",
    "\n",
    "#train and validation loss\n",
    "plt.plot(hist.history['loss'])\n",
    "plt.plot(hist.history['val_loss'])\n",
    "plt.title('Model Loss')\n",
    "plt.ylabel('Loss')\n",
    "plt.xlabel('Epoch')\n",
    "plt.legend(['train','Validation'],loc='upper left')\n",
    "plt.savefig('results/DNN Loss.png') \n",
    "plt.pause(5)\n",
    "plt.show(block=False)\n",
    "plt.close()\n",
    "\n",
    "#train and validation accuracy\n",
    "plt.plot(hist.history['accuracy'])\n",
    "plt.plot(hist.history['val_accuracy'])\n",
    "plt.title('Model Accuracy')\n",
    "plt.ylabel('Accuracy')\n",
    "plt.xlabel('Epoch')\n",
    "plt.legend(['train','Validation'],loc='upper left')\n",
    "plt.savefig('results/DNN Accuracy.png') \n",
    "plt.pause(5)\n",
    "plt.show(block=False)\n",
    "plt.close()\n",
    "\n",
    "\n",
    "y_pred=model.predict(X_test)\n",
    "y_pred = [np.argmax(x) for x in y_pred]\n"
   ]
  },
  {
   "cell_type": "code",
   "execution_count": 8,
   "metadata": {},
   "outputs": [
    {
     "name": "stdout",
     "output_type": "stream",
     "text": [
      "MSE VALUE FOR DNN IS 0.549523 \n",
      "MAE VALUE FOR DNN IS 0.549523 \n",
      "R-SQUARED VALUE FOR DNN IS -1.219871 \n",
      "RMSE VALUE FOR DNN IS 0.741298 \n"
     ]
    }
   ],
   "source": [
    "mse=mean_squared_error(y_test, y_pred)\n",
    "mae=mean_absolute_error(y_test, y_pred)\n",
    "r2=r2_score(y_test, y_pred)\n",
    "print(\"MSE VALUE FOR DNN IS %f \"  % mse)\n",
    "print(\"MAE VALUE FOR DNN IS %f \"  % mae)\n",
    "print(\"R-SQUARED VALUE FOR DNN IS %f \"  % r2)\n",
    "rms = np.sqrt(mean_squared_error(y_test, y_pred))\n",
    "print(\"RMSE VALUE FOR DNN IS %f \"  % rms)\n"
   ]
  },
  {
   "cell_type": "code",
   "execution_count": null,
   "metadata": {},
   "outputs": [],
   "source": []
  }
 ],
 "metadata": {
  "kernelspec": {
   "display_name": "Python 3",
   "language": "python",
   "name": "python3"
  },
  "language_info": {
   "codemirror_mode": {
    "name": "ipython",
    "version": 3
   },
   "file_extension": ".py",
   "mimetype": "text/x-python",
   "name": "python",
   "nbconvert_exporter": "python",
   "pygments_lexer": "ipython3",
   "version": "3.8.3"
  }
 },
 "nbformat": 4,
 "nbformat_minor": 4
}
